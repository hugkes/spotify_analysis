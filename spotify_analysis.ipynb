{
 "cells": [
  {
   "cell_type": "markdown",
   "id": "5191f0e3-eca4-4923-a281-19436172d218",
   "metadata": {},
   "source": [
    "# Spotify Analysis\n",
    "The goal of this notebook is to clean and analyse music streaming data sourced from Spotify (see steps here to source the data: https://support.stats.fm/docs/import/spotify-import/)"
   ]
  },
  {
   "cell_type": "code",
   "execution_count": 3,
   "id": "6190fbf1-b993-4d91-87c4-b6ecfb33e770",
   "metadata": {},
   "outputs": [],
   "source": [
    "# Import required libraries\n",
    "\n",
    "import pandas as pd\n",
    "import numpy as np\n",
    "import matplotlib as mpl\n",
    "import seaborn"
   ]
  },
  {
   "cell_type": "markdown",
   "id": "265b2dbb-1ae6-474a-907b-d149b70f0dc4",
   "metadata": {},
   "source": [
    "## Data Import\n",
    "Spotify provides data in json format."
   ]
  },
  {
   "cell_type": "code",
   "execution_count": null,
   "id": "dc884887-42b1-45b1-8634-095aed859417",
   "metadata": {},
   "outputs": [],
   "source": []
  }
 ],
 "metadata": {
  "kernelspec": {
   "display_name": "Python 3 (ipykernel)",
   "language": "python",
   "name": "python3"
  },
  "language_info": {
   "codemirror_mode": {
    "name": "ipython",
    "version": 3
   },
   "file_extension": ".py",
   "mimetype": "text/x-python",
   "name": "python",
   "nbconvert_exporter": "python",
   "pygments_lexer": "ipython3",
   "version": "3.10.9"
  }
 },
 "nbformat": 4,
 "nbformat_minor": 5
}
