{
 "cells": [
  {
   "cell_type": "markdown",
   "id": "5191f0e3-eca4-4923-a281-19436172d218",
   "metadata": {},
   "source": [
    "# Spotify Analysis\n",
    "The goal of this notebook is to clean and analyse music streaming data sourced from Spotify (see steps here to source the data: https://support.stats.fm/docs/import/spotify-import/)"
   ]
  },
  {
   "cell_type": "code",
   "execution_count": null,
   "id": "6190fbf1-b993-4d91-87c4-b6ecfb33e770",
   "metadata": {},
   "outputs": [],
   "source": [
    "# Import required libraries\n",
    "\n",
    "import seaborn\n",
    "import os\n",
    "import json\n",
    "import pandas as pd\n",
    "import numpy as np\n",
    "import matplotlib as mpl"
   ]
  },
  {
   "cell_type": "markdown",
   "id": "265b2dbb-1ae6-474a-907b-d149b70f0dc4",
   "metadata": {},
   "source": [
    "## Data Import\n",
    "Spotify provides data in json format, however the data is often supplied in multiple files split by year. This data needs to be concatenated."
   ]
  },
  {
   "cell_type": "code",
   "execution_count": null,
   "id": "fa8d874a-56f5-4d68-96a4-388f2d249774",
   "metadata": {},
   "outputs": [],
   "source": [
    "def read_jsons_to_df(data_dir_path):\n",
    "    \"\"\"\n",
    "    Iterates through all json files in the provided directory, normalises the data\n",
    "    into tabular format and then concatenates all tables together into a dataframe.\n",
    "    Assumes all jsons are the same format (provided from Spotify).\n",
    "    \n",
    "    Parameters:\n",
    "        data_dir_path: path to the directory with the json files\n",
    "    \n",
    "    Returns:\n",
    "        dataframe with all concatenated jsons\n",
    "    \"\"\"\n",
    "    # List all .json files in the directory\n",
    "    json_files = [f for f in os.listdir(data_dir_path) if f.endswith('.json')]\n",
    "\n",
    "    # Initialize an empty list to store individual dataframes\n",
    "    df_list = []\n",
    "\n",
    "    # Iterate over the filtered list of json files\n",
    "    for filename in json_files:\n",
    "        file_path = os.path.join(data_dir_path, filename)\n",
    "\n",
    "        # Read the json\n",
    "        df = pd.read_json(file_path)\n",
    "            \n",
    "        # Append the resulting DataFrame to the list\n",
    "        df_list.append(df)\n",
    "\n",
    "    # Concatenate all dataframes in the list into one final dataframe\n",
    "    final_df = pd.concat(df_list, ignore_index=True)\n",
    "    \n",
    "    return final_df"
   ]
  },
  {
   "cell_type": "code",
   "execution_count": null,
   "id": "f2f45532-2516-4449-8269-afe205098b72",
   "metadata": {},
   "outputs": [],
   "source": [
    "# Apply the function\n",
    "df = read_jsons_to_df('data/')"
   ]
  },
  {
   "cell_type": "code",
   "execution_count": null,
   "id": "7ad39db7-a4b5-4dde-801f-0997e030cf98",
   "metadata": {},
   "outputs": [],
   "source": [
    "# Change ts data type to timestamp\n",
    "df['ts'] = pd.to_datetime(df['ts'])"
   ]
  },
  {
   "cell_type": "markdown",
   "id": "f5fcd288-e296-460a-baa2-19c0b6c4bc27",
   "metadata": {},
   "source": [
    "## Analysis"
   ]
  },
  {
   "cell_type": "code",
   "execution_count": null,
   "id": "10980b63-0b27-419e-bb9e-4d18badfd359",
   "metadata": {},
   "outputs": [],
   "source": [
    "# Top played artists of all time\n",
    "listening_time_by_artist = df.groupby([\"master_metadata_album_artist_name\"]) \\\n",
    "                            .agg({\"ms_played\": [\"sum\"]}) \\\n",
    "                            .set_axis(['ms_played'], axis=1) \\\n",
    "                            .sort_values('ms_played', ascending = False)\n",
    "\n",
    "listening_time_by_artist"
   ]
  },
  {
   "cell_type": "code",
   "execution_count": null,
   "id": "3775cede-5b8a-4e93-9ea4-15d021ba9b78",
   "metadata": {},
   "outputs": [],
   "source": [
    "# Top played songs of all time\n",
    "listening_time_by_album = df.groupby([\"master_metadata_album_album_name\"]) \\\n",
    "                            .agg({\"ms_played\": [\"sum\"]}) \\\n",
    "                            .set_axis(['ms_played'], axis=1) \\\n",
    "                            .sort_values('ms_played', ascending = False)\n",
    "\n",
    "listening_time_by_album"
   ]
  },
  {
   "cell_type": "code",
   "execution_count": null,
   "id": "72c75bab-3173-4b2c-9b48-c1cc3c1d79fd",
   "metadata": {
    "scrolled": true
   },
   "outputs": [],
   "source": [
    "# Top played songs of all time\n",
    "listening_time_by_song = df.groupby([\"master_metadata_track_name\"]) \\\n",
    "                            .agg({\"ms_played\": [\"sum\"]}) \\\n",
    "                            .set_axis(['ms_played'], axis=1) \\\n",
    "                            .sort_values('ms_played', ascending = False)\n",
    "\n",
    "listening_time_by_song"
   ]
  }
 ],
 "metadata": {
  "kernelspec": {
   "display_name": "Python 3 (ipykernel)",
   "language": "python",
   "name": "python3"
  },
  "language_info": {
   "codemirror_mode": {
    "name": "ipython",
    "version": 3
   },
   "file_extension": ".py",
   "mimetype": "text/x-python",
   "name": "python",
   "nbconvert_exporter": "python",
   "pygments_lexer": "ipython3",
   "version": "3.10.9"
  }
 },
 "nbformat": 4,
 "nbformat_minor": 5
}
