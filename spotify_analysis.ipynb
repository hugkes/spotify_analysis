{
 "cells": [
  {
   "cell_type": "markdown",
   "id": "5191f0e3-eca4-4923-a281-19436172d218",
   "metadata": {},
   "source": [
    "# Spotify Analysis\n",
    "The goal of this notebook is to clean and analyse music streaming data sourced from Spotify (see steps here to source the data: https://support.stats.fm/docs/import/spotify-import/)"
   ]
  },
  {
   "cell_type": "code",
   "execution_count": null,
   "id": "6190fbf1-b993-4d91-87c4-b6ecfb33e770",
   "metadata": {},
   "outputs": [],
   "source": [
    "# Import required libraries\n",
    "\n",
    "import os\n",
    "import json\n",
    "import pandas as pd\n",
    "import numpy as np\n",
    "import plotly.express as px"
   ]
  },
  {
   "cell_type": "markdown",
   "id": "265b2dbb-1ae6-474a-907b-d149b70f0dc4",
   "metadata": {},
   "source": [
    "## Data Import\n",
    "Spotify provides data in json format, however the data is often supplied in multiple files split by year. This data needs to be concatenated."
   ]
  },
  {
   "cell_type": "code",
   "execution_count": null,
   "id": "fa8d874a-56f5-4d68-96a4-388f2d249774",
   "metadata": {},
   "outputs": [],
   "source": [
    "def read_jsons_to_df(data_dir_path):\n",
    "    \"\"\"\n",
    "    Iterates through all json files in the provided directory, normalises the data\n",
    "    into tabular format and then concatenates all tables together into a dataframe.\n",
    "    Assumes all jsons are the same format (provided from Spotify).\n",
    "    \n",
    "    Parameters:\n",
    "        data_dir_path: path to the directory with the json files\n",
    "    \n",
    "    Returns:\n",
    "        dataframe with all concatenated jsons\n",
    "    \"\"\"\n",
    "    # List all .json files in the directory\n",
    "    json_files = [f for f in os.listdir(data_dir_path) if f.endswith('.json')]\n",
    "\n",
    "    # Initialize an empty list to store individual dataframes\n",
    "    df_list = []\n",
    "\n",
    "    # Iterate over the filtered list of json files\n",
    "    for filename in json_files:\n",
    "        file_path = os.path.join(data_dir_path, filename)\n",
    "\n",
    "        # Read the json\n",
    "        df = pd.read_json(file_path)\n",
    "            \n",
    "        # Append the resulting DataFrame to the list\n",
    "        df_list.append(df)\n",
    "\n",
    "    # Concatenate all dataframes in the list into one final dataframe\n",
    "    final_df = pd.concat(df_list, ignore_index=True)\n",
    "    \n",
    "    return final_df"
   ]
  },
  {
   "cell_type": "code",
   "execution_count": null,
   "id": "f2f45532-2516-4449-8269-afe205098b72",
   "metadata": {},
   "outputs": [],
   "source": [
    "# Apply the function\n",
    "df = read_jsons_to_df('data/')"
   ]
  },
  {
   "cell_type": "markdown",
   "id": "f9d0a265-89b0-4c77-9d74-4022a666753f",
   "metadata": {},
   "source": [
    "## Data Cleansing"
   ]
  },
  {
   "cell_type": "code",
   "execution_count": null,
   "id": "7ad39db7-a4b5-4dde-801f-0997e030cf98",
   "metadata": {},
   "outputs": [],
   "source": [
    "# Change ts data type to timestamp\n",
    "df['ts'] = pd.to_datetime(df['ts'])"
   ]
  },
  {
   "cell_type": "code",
   "execution_count": null,
   "id": "1ad89f7c-5dd8-4704-b976-d09e380bf844",
   "metadata": {},
   "outputs": [],
   "source": [
    "# Add columns for Year, Month, MM-YYYY\n",
    "df['Year'] = df['ts'].dt.strftime('%Y').astype(int)\n",
    "df['Month'] = df['ts'].dt.strftime('%m').astype(int)\n",
    "df['YYYY-MM'] = df['ts'].dt.strftime('%Y-%m')"
   ]
  },
  {
   "cell_type": "code",
   "execution_count": null,
   "id": "92969f4a-03a6-4cd6-8c4a-124338539efb",
   "metadata": {},
   "outputs": [],
   "source": [
    "# Add columns for minutes, hours, days from miliseconds\n",
    "df['mins_played'] = df['ms_played']/60000\n",
    "df['hours_played'] = df['mins_played']/60\n",
    "df['days_played'] = df['hours_played']/24"
   ]
  },
  {
   "cell_type": "code",
   "execution_count": null,
   "id": "dba8216f-e17a-4dbd-8513-f3a7ea07e8d2",
   "metadata": {},
   "outputs": [],
   "source": [
    "# Rename artist, album & song columns\n",
    "df.rename(columns={'master_metadata_album_artist_name':'artist',\n",
    "                   'master_metadata_album_album_name':'album',\n",
    "                  'master_metadata_track_name':'song'}, inplace=True)"
   ]
  },
  {
   "cell_type": "markdown",
   "id": "f5fcd288-e296-460a-baa2-19c0b6c4bc27",
   "metadata": {},
   "source": [
    "## Analysis"
   ]
  },
  {
   "cell_type": "markdown",
   "id": "04ef980f-5e8d-4368-8d43-c07ac4090b22",
   "metadata": {},
   "source": [
    "### Lists of Top Artists, Albums & Song"
   ]
  },
  {
   "cell_type": "code",
   "execution_count": null,
   "id": "7b6a6204-0ef3-480f-9a49-0098268eb88c",
   "metadata": {},
   "outputs": [],
   "source": [
    "# Top played artists of all time\n",
    "list_time_by_artist = df.groupby([\"artist\"]) \\\n",
    "                            .agg({\"mins_played\": [\"sum\"],\n",
    "                                \"hours_played\": [\"sum\"],\n",
    "                                \"days_played\": [\"sum\"]}) \\\n",
    "                            .set_axis(['mins_played',\n",
    "                                       'hours_played',\n",
    "                                       'days_played'], axis=1) \\\n",
    "                            .sort_values('mins_played', ascending = False)\n",
    "\n",
    "list_time_by_artist = list_time_by_artist.round(2)\n",
    "\n",
    "list_time_by_artist"
   ]
  },
  {
   "cell_type": "code",
   "execution_count": null,
   "id": "10980b63-0b27-419e-bb9e-4d18badfd359",
   "metadata": {},
   "outputs": [],
   "source": [
    "# Top played albums of all time\n",
    "list_time_by_album = df.groupby([\"album\"]) \\\n",
    "                            .agg({\"mins_played\": [\"sum\"],\n",
    "                                \"hours_played\": [\"sum\"],\n",
    "                                \"days_played\": [\"sum\"]}) \\\n",
    "                            .set_axis(['mins_played',\n",
    "                                       'hours_played',\n",
    "                                       'days_played'], axis=1) \\\n",
    "                            .sort_values('mins_played', ascending = False)\n",
    "\n",
    "list_time_by_album = list_time_by_album.round(2)\n",
    "\n",
    "list_time_by_album"
   ]
  },
  {
   "cell_type": "code",
   "execution_count": null,
   "id": "3775cede-5b8a-4e93-9ea4-15d021ba9b78",
   "metadata": {},
   "outputs": [],
   "source": [
    "# Top played songs of all time\n",
    "list_time_by_song = df.groupby([\"song\"]) \\\n",
    "                            .agg({\"mins_played\": [\"sum\"],\n",
    "                                \"hours_played\": [\"sum\"],\n",
    "                                \"days_played\": [\"sum\"]}) \\\n",
    "                            .set_axis(['mins_played',\n",
    "                                       'hours_played',\n",
    "                                       'days_played'], axis=1) \\\n",
    "                            .sort_values('mins_played', ascending = False)\n",
    "\n",
    "list_time_by_song = list_time_by_song.round(2)\n",
    "\n",
    "list_time_by_song"
   ]
  },
  {
   "cell_type": "markdown",
   "id": "4b58e647-1f39-4d69-92f9-058312319e73",
   "metadata": {},
   "source": [
    "### Artist Popularity over Time"
   ]
  },
  {
   "cell_type": "code",
   "execution_count": null,
   "id": "5b8f43af-890a-41dd-978b-4521a5795431",
   "metadata": {
    "scrolled": true
   },
   "outputs": [],
   "source": [
    "# Only select top 15 artists of all time\n",
    "top_15_artists = list_time_by_artist.sort_values('mins_played',\n",
    "                                                 ascending=False).head(15)\n",
    "\n",
    "# Filter the original dataframe to include only rows for the top 15 artists\n",
    "filtered_df = df[df['artist'].isin(top_15_artists.index)]"
   ]
  },
  {
   "cell_type": "code",
   "execution_count": null,
   "id": "8ae1cd9c-c570-4049-86eb-6e32d7f58568",
   "metadata": {
    "scrolled": true
   },
   "outputs": [],
   "source": [
    "# Group by month and artist\n",
    "list_time_by_month = filtered_df.groupby([\"artist\", \"Year\"]) \\\n",
    "                            .agg({\"mins_played\": [\"sum\"],\n",
    "                                \"hours_played\": [\"sum\"],\n",
    "                                \"days_played\": [\"sum\"]}) \\\n",
    "                            .set_axis(['mins_played',\n",
    "                                       'hours_played',\n",
    "                                       'days_played'], axis=1) \\\n",
    "                            .sort_values('mins_played', ascending = False)\n",
    "\n",
    "list_time_by_month = list_time_by_month.round(2)\n",
    "list_time_by_month = list_time_by_month.reset_index()"
   ]
  },
  {
   "cell_type": "code",
   "execution_count": null,
   "id": "14f2b175-a0d0-4ada-802f-3f4f12826a60",
   "metadata": {},
   "outputs": [],
   "source": [
    "list_time_by_month = list_time_by_month.sort_values(by=['Year'])\n",
    "\n",
    "# Plot the line chart\n",
    "fig = px.line(list_time_by_month,\n",
    "              x = \"Year\",\n",
    "              y = \"hours_played\",\n",
    "              color = 'artist',\n",
    "              title = 'Top 15 Artists: Listening Frequency over Years')\n",
    "\n",
    "# Show the plot\n",
    "fig.show()"
   ]
  },
  {
   "cell_type": "markdown",
   "id": "fbd35715-cad1-4e93-8d49-7f0b97aebf4f",
   "metadata": {},
   "source": [
    "### Distinct Count of Artists Listened to Per Year"
   ]
  },
  {
   "cell_type": "code",
   "execution_count": null,
   "id": "9b229a3b-ba1e-4850-b7b8-f973fa2af40d",
   "metadata": {},
   "outputs": [],
   "source": [
    "# Get count of unique values in artist column by year\n",
    "nunique_by_year = df.groupby('Year')['artist'].nunique()\n",
    "nunique_by_year = df.groupby('Year').agg({'artist': ['nunique']}) \\\n",
    "                                    .set_axis(['number_artists'], axis=1) \\\n",
    "                                    .reset_index()\n",
    "\n",
    "# Plot the line chart\n",
    "fig = px.line(nunique_by_year,\n",
    "              x = \"Year\",\n",
    "              y = \"number_artists\",\n",
    "              title = 'Number of Distinct Artists Listened to per Year')\n",
    "\n",
    "# Show the plot\n",
    "fig.show()"
   ]
  },
  {
   "cell_type": "code",
   "execution_count": null,
   "id": "42e28451-0244-4828-baa2-e3dffab62109",
   "metadata": {},
   "outputs": [],
   "source": [
    "# distinct count of artists listened to per year\n",
    "# location of artists? use spotify api?"
   ]
  }
 ],
 "metadata": {
  "kernelspec": {
   "display_name": "Python 3 (ipykernel)",
   "language": "python",
   "name": "python3"
  },
  "language_info": {
   "codemirror_mode": {
    "name": "ipython",
    "version": 3
   },
   "file_extension": ".py",
   "mimetype": "text/x-python",
   "name": "python",
   "nbconvert_exporter": "python",
   "pygments_lexer": "ipython3",
   "version": "3.10.9"
  }
 },
 "nbformat": 4,
 "nbformat_minor": 5
}
